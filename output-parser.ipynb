{
 "cells": [
  {
   "cell_type": "code",
   "id": "initial_id",
   "metadata": {
    "collapsed": true,
    "ExecuteTime": {
     "end_time": "2024-11-05T09:33:14.803727Z",
     "start_time": "2024-11-05T09:33:14.783169Z"
    }
   },
   "source": [
    "from langchain_openai import ChatOpenAI\n",
    "import os\n",
    "from dotenv import load_dotenv, find_dotenv\n",
    "_ = load_dotenv(find_dotenv())\n",
    "\n",
    "llm_model = 'gpt-4o-mini'\n",
    "chat = ChatOpenAI(temperature=0.0, model=llm_model, api_key=os.environ['OPENAI_API_KEY'])"
   ],
   "outputs": [],
   "execution_count": 4
  },
  {
   "metadata": {
    "ExecuteTime": {
     "end_time": "2024-11-05T09:33:14.810834Z",
     "start_time": "2024-11-05T09:33:14.808527Z"
    }
   },
   "cell_type": "code",
   "source": [
    "customer_review = \"\"\"\n",
    "We are expatriate, skilled /professionally working in Malaysia.  Any update when we will be eligible?\n",
    "\"\"\""
   ],
   "id": "762ef88260e42549",
   "outputs": [],
   "execution_count": 5
  },
  {
   "metadata": {
    "ExecuteTime": {
     "end_time": "2024-11-05T09:33:14.819789Z",
     "start_time": "2024-11-05T09:33:14.817522Z"
    }
   },
   "cell_type": "code",
   "source": [
    "review_template = \"\"\"\n",
    "For the following review text, extract the following information:\n",
    "\n",
    "sentiment: Determine the overall sentiment of the review as \"positive\" or \"negative\" based on the user's feedback.\n",
    "\n",
    "review_feedback: Summarise the user's general feedback on the app, \\\n",
    "highlighting any positive or negative comments.\n",
    "\n",
    "security_practices: Identify any security practices or recommendations the user mentions. \\\n",
    "If none are mentioned, output an empty list.\n",
    "\n",
    "flexibility_features: List any specific features the user appreciates or finds flexible, \\\n",
    "such as the ease of changing transfer limits or other user-friendly functionalities. \\\n",
    "If none are mentioned, output an empty list.\n",
    "\n",
    "suggestions: Extract any suggestions or requests for additional features, improvements, or questions posed by the user. \\\n",
    "If none are mentioned, output an empty list.\n",
    "\n",
    "Format the output as JSON with the following keys:\n",
    "sentiment\n",
    "review_feedback\n",
    "security_practices\n",
    "flexibility_features\n",
    "suggestions\n",
    "\n",
    "text: {text}\n",
    "\"\"\""
   ],
   "id": "e399e2da917371c",
   "outputs": [],
   "execution_count": 6
  },
  {
   "metadata": {
    "ExecuteTime": {
     "end_time": "2024-11-05T09:33:16.288019Z",
     "start_time": "2024-11-05T09:33:14.825498Z"
    }
   },
   "cell_type": "code",
   "source": [
    "from langchain.prompts import ChatPromptTemplate\n",
    "\n",
    "prompt_template = ChatPromptTemplate.from_template(review_template)\n",
    "messages = prompt_template.format_messages(text=customer_review)\n",
    "response = chat.invoke(messages)\n",
    "print(response.content)"
   ],
   "id": "18b0bf638db1bdce",
   "outputs": [
    {
     "name": "stdout",
     "output_type": "stream",
     "text": [
      "```json\n",
      "{\n",
      "  \"sentiment\": \"negative\",\n",
      "  \"review_feedback\": \"The user expresses frustration about not knowing when they will be eligible for a certain feature or service.\",\n",
      "  \"security_practices\": [],\n",
      "  \"flexibility_features\": [],\n",
      "  \"suggestions\": [\n",
      "    \"Request for an update on eligibility.\"\n",
      "  ]\n",
      "}\n",
      "```\n"
     ]
    }
   ],
   "execution_count": 7
  }
 ],
 "metadata": {
  "kernelspec": {
   "display_name": "Python 3",
   "language": "python",
   "name": "python3"
  },
  "language_info": {
   "codemirror_mode": {
    "name": "ipython",
    "version": 2
   },
   "file_extension": ".py",
   "mimetype": "text/x-python",
   "name": "python",
   "nbconvert_exporter": "python",
   "pygments_lexer": "ipython2",
   "version": "2.7.6"
  }
 },
 "nbformat": 4,
 "nbformat_minor": 5
}
